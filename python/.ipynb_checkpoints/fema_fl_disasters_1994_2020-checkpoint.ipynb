{
 "cells": [
  {
   "cell_type": "code",
   "execution_count": 47,
   "metadata": {},
   "outputs": [
    {
     "data": {
      "text/plain": [
       "femaDeclarationString        object\n",
       "disasterNumber              float64\n",
       "state                        object\n",
       "declarationType              object\n",
       "declarationDate              object\n",
       "fyDeclared                  float64\n",
       "incidentType                 object\n",
       "declarationTitle             object\n",
       "ihProgramDeclared           float64\n",
       "iaProgramDeclared           float64\n",
       "paProgramDeclared           float64\n",
       "hmProgramDeclared           float64\n",
       "Date                         object\n",
       "incidentBeginDate            object\n",
       "incidentEndDate              object\n",
       "disasterCloseoutDate         object\n",
       "fipsStateCode               float64\n",
       "fipsCountyCode              float64\n",
       "placeCode                   float64\n",
       "designatedArea               object\n",
       "declarationRequestNumber    float64\n",
       "hash                         object\n",
       "lastRefresh                  object\n",
       "id                           object\n",
       "dtype: object"
      ]
     },
     "execution_count": 47,
     "metadata": {},
     "output_type": "execute_result"
    }
   ],
   "source": [
    "import pandas as pd\n",
    "\n",
    "df = pd.read_csv('../project_assets/fema_disasters_1994_2020.csv')\n",
    "\n",
    "# Show columns and data types\n",
    "df.dtypes"
   ]
  },
  {
   "cell_type": "code",
   "execution_count": 52,
   "metadata": {},
   "outputs": [
    {
     "data": {
      "text/plain": [
       "disaster_id             125\n",
       "disaster_state            1\n",
       "disaster_county          68\n",
       "disaster_county_code     67\n",
       "disaster_declaration      3\n",
       "disaster_name            98\n",
       "disaster_type             8\n",
       "disaster_date           107\n",
       "dtype: int64"
      ]
     },
     "execution_count": 52,
     "metadata": {},
     "output_type": "execute_result"
    }
   ],
   "source": [
    "# Create a result DataFrame\n",
    "results = df\n",
    "\n",
    "# Filters\n",
    "keep_columns = [\n",
    "    'femaDeclarationString', \n",
    "    'state',\n",
    "    'designatedArea',\n",
    "    'fipsCountyCode',\n",
    "    'declarationType',\n",
    "    'declarationTitle',\n",
    "    'incidentType',\n",
    "    'incidentBeginDate'\n",
    "]\n",
    "state_filter = df['state']=='FL'\n",
    "is_county = df['fipsCountyCode'] > 0\n",
    "\n",
    "# Transformations (Rename)\n",
    "renamed_columns = {\n",
    "    'femaDeclarationString': 'disaster_id',\n",
    "    'state': 'disaster_state',\n",
    "    'designatedArea': 'disaster_county',\n",
    "    'fipsCountyCode': 'disaster_county_code',\n",
    "    'declarationType': 'disaster_declaration',\n",
    "    'declarationTitle': 'disaster_name',\n",
    "    'incidentType': 'disaster_type',\n",
    "    'incidentBeginDate': 'disaster_date'\n",
    "}\n",
    "\n",
    "# Apply filters and transformations\n",
    "results = df[state_filter & is_county][keep_columns]\n",
    "results.rename(columns=renamed_columns, inplace=True)\n",
    "\n",
    "# Change Data Types\n",
    "results = results.astype(str)\n",
    "\n",
    "results.nunique()"
   ]
  },
  {
   "cell_type": "code",
   "execution_count": 49,
   "metadata": {},
   "outputs": [],
   "source": [
    "# Export to CSV\n",
    "results.to_csv('fema_fl_disasters_1994_2020.csv', index=False)"
   ]
  },
  {
   "cell_type": "code",
   "execution_count": 46,
   "metadata": {},
   "outputs": [
    {
     "data": {
      "text/plain": [
       "disaster_county      disaster_county_code\n",
       "St. Johns (County)   109.0                   21\n",
       "St. Lucie (County)   111.0                   29\n",
       "Sumter (County)      119.0                   18\n",
       "Suwannee (County)    121.0                   24\n",
       "Taylor (County)      123.0                   23\n",
       "Union (County)       125.0                   20\n",
       "Volusia (County)     127.0                   31\n",
       "Wakulla (County)     129.0                   30\n",
       "Walton (County)      131.0                   30\n",
       "Washington (County)  133.0                   28\n",
       "Name: disaster_id, dtype: int64"
      ]
     },
     "execution_count": 46,
     "metadata": {},
     "output_type": "execute_result"
    }
   ],
   "source": [
    "# Testing Outputs\n",
    "group_by = ['disaster_county', 'disaster_county_code']\n",
    "results.groupby(group_by)['disaster_id'].nunique().tail(10)"
   ]
  }
 ],
 "metadata": {
  "kernelspec": {
   "display_name": "Python 3",
   "language": "python",
   "name": "python3"
  },
  "language_info": {
   "codemirror_mode": {
    "name": "ipython",
    "version": 3
   },
   "file_extension": ".py",
   "mimetype": "text/x-python",
   "name": "python",
   "nbconvert_exporter": "python",
   "pygments_lexer": "ipython3",
   "version": "3.7.6"
  }
 },
 "nbformat": 4,
 "nbformat_minor": 4
}
